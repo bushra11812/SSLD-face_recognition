{
  "nbformat": 4,
  "nbformat_minor": 0,
  "metadata": {
    "colab": {
      "name": "Copy of Untitled13.ipynb",
      "private_outputs": true,
      "provenance": [],
      "toc_visible": true,
      "authorship_tag": "ABX9TyMY2V4MevDKwShpHQcON8jz",
      "include_colab_link": true
    },
    "kernelspec": {
      "name": "python3",
      "display_name": "Python 3"
    }
  },
  "cells": [
    {
      "cell_type": "markdown",
      "metadata": {
        "id": "view-in-github",
        "colab_type": "text"
      },
      "source": [
        "<a href=\"https://colab.research.google.com/github/bushra11812/SSLD-face_recognition/blob/master/Copy_of_Untitled13.ipynb\" target=\"_parent\"><img src=\"https://colab.research.google.com/assets/colab-badge.svg\" alt=\"Open In Colab\"/></a>"
      ]
    },
    {
      "cell_type": "code",
      "metadata": {
        "id": "nh8GzjV24TMs"
      },
      "source": [
        "!git clone https://github.com/bushra11812/SSLD-face_recognition\r\n"
      ],
      "execution_count": null,
      "outputs": []
    },
    {
      "cell_type": "code",
      "metadata": {
        "id": "79BmjBV77DVr"
      },
      "source": [
        "!wget https://github.com/phuselab/SSLD-face_recognition/releases/download/v1.0/lfw_158_sbj.zip\r\n"
      ],
      "execution_count": null,
      "outputs": []
    },
    {
      "cell_type": "code",
      "metadata": {
        "id": "1rpZ5Dj47j6o"
      },
      "source": [
        "!unzip lfw_158_sbj.zip\r\n"
      ],
      "execution_count": null,
      "outputs": []
    },
    {
      "cell_type": "code",
      "metadata": {
        "id": "nmi1_yRa8mWj"
      },
      "source": [
        "!rm lfw_158_sbj.zip\r\n"
      ],
      "execution_count": null,
      "outputs": []
    },
    {
      "cell_type": "code",
      "metadata": {
        "id": "VNyvWGRI9C0x"
      },
      "source": [
        "!Run /content/drive/MyDrive/SSLD-face_recognition-master/main.py"
      ],
      "execution_count": null,
      "outputs": []
    },
    {
      "cell_type": "code",
      "metadata": {
        "id": "1-D8c2jwh6ww"
      },
      "source": [
        ""
      ],
      "execution_count": null,
      "outputs": []
    },
    {
      "cell_type": "code",
      "metadata": {
        "id": "ebEy54ZBMRXR"
      },
      "source": [
        "from google.colab import drive\n",
        "drive.mount('/content/drive')"
      ],
      "execution_count": null,
      "outputs": []
    },
    {
      "cell_type": "code",
      "metadata": {
        "id": "qjJgLClPh9CE"
      },
      "source": [
        "!Run /content/drive/MyDrive/SSLD-face_recognition-master/main.py"
      ],
      "execution_count": null,
      "outputs": []
    }
  ]
}